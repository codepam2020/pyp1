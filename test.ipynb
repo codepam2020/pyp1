{
 "cells": [
  {
   "cell_type": "code",
   "execution_count": 1,
   "metadata": {},
   "outputs": [],
   "source": [
    "import pandas as pd\n",
    "from drug_data import DrugData"
   ]
  },
  {
   "cell_type": "code",
   "execution_count": 2,
   "metadata": {},
   "outputs": [],
   "source": [
    "drugData = DrugData()"
   ]
  },
  {
   "cell_type": "code",
   "execution_count": 3,
   "metadata": {},
   "outputs": [
    {
     "ename": "ModuleNotFoundError",
     "evalue": "No module named 'requests'",
     "output_type": "error",
     "traceback": [
      "\u001b[1;31m---------------------------------------------------------------------------\u001b[0m",
      "\u001b[1;31mModuleNotFoundError\u001b[0m                       Traceback (most recent call last)",
      "Cell \u001b[1;32mIn [3], line 1\u001b[0m\n\u001b[1;32m----> 1\u001b[0m res \u001b[39m=\u001b[39m drugData\u001b[39m.\u001b[39;49mgetDetailedDrugInfo(\u001b[39m'\u001b[39;49m\u001b[39m마그네스정\u001b[39;49m\u001b[39m'\u001b[39;49m)\n",
      "File \u001b[1;32mc:\\Users\\alsue\\Programming\\Custum Program\\pyp1\\drug_data.py:196\u001b[0m, in \u001b[0;36mDrugData.getDetailedDrugInfo\u001b[1;34m(self, name)\u001b[0m\n\u001b[0;32m    195\u001b[0m \u001b[39mdef\u001b[39;00m \u001b[39mgetDetailedDrugInfo\u001b[39m(\u001b[39mself\u001b[39m, name):\n\u001b[1;32m--> 196\u001b[0m   \u001b[39mimport\u001b[39;00m \u001b[39mrequests\u001b[39;00m\n\u001b[0;32m    197\u001b[0m   \u001b[39mimport\u001b[39;00m \u001b[39mxml\u001b[39;00m\u001b[39m.\u001b[39;00m\u001b[39metree\u001b[39;00m\u001b[39m.\u001b[39;00m\u001b[39mElementTree\u001b[39;00m \u001b[39mas\u001b[39;00m \u001b[39mET\u001b[39;00m\n\u001b[0;32m    199\u001b[0m   url \u001b[39m=\u001b[39m \u001b[39m'\u001b[39m\u001b[39mhttp://apis.data.go.kr/1471000/DrugPrdtPrmsnInfoService02/getDrugPrdtPrmsnDtlInq01\u001b[39m\u001b[39m'\u001b[39m\n",
      "\u001b[1;31mModuleNotFoundError\u001b[0m: No module named 'requests'"
     ]
    }
   ],
   "source": [
    "res = drugData.getDetailedDrugInfo('마그네스정')"
   ]
  }
 ],
 "metadata": {
  "kernelspec": {
   "display_name": "Python 3.9.13 ('dt')",
   "language": "python",
   "name": "python3"
  },
  "language_info": {
   "codemirror_mode": {
    "name": "ipython",
    "version": 3
   },
   "file_extension": ".py",
   "mimetype": "text/x-python",
   "name": "python",
   "nbconvert_exporter": "python",
   "pygments_lexer": "ipython3",
   "version": "3.9.13"
  },
  "orig_nbformat": 4,
  "vscode": {
   "interpreter": {
    "hash": "1a85f14453b71934a4258060624fc47c177d05b41325ffeb5f8ec5a9ae62e297"
   }
  }
 },
 "nbformat": 4,
 "nbformat_minor": 2
}

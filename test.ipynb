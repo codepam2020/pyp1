{
 "cells": [
  {
   "cell_type": "code",
   "execution_count": 3,
   "metadata": {},
   "outputs": [],
   "source": [
    "import pandas as pd\n",
    "from drug_data import DrugData\n"
   ]
  },
  {
   "cell_type": "code",
   "execution_count": 4,
   "metadata": {},
   "outputs": [],
   "source": [
    "drugData = DrugData()\n",
    "drugName = '마그네스정'\n",
    "\n",
    "ingrCode = drugData.getDrugIngrCode(drugName)\n",
    "ingrNameKor = drugData.getDrugIngrNameKor(drugName)\n",
    "drugInfo = pd.DataFrame({'name': drugName, 'ingrCode':[ingrCode], 'ingrNameKor': [ingrNameKor]})"
   ]
  },
  {
   "cell_type": "code",
   "execution_count": 5,
   "metadata": {},
   "outputs": [],
   "source": [
    "db = drugData.readDrugDB()"
   ]
  },
  {
   "cell_type": "code",
   "execution_count": 6,
   "metadata": {},
   "outputs": [
    {
     "data": {
      "text/html": [
       "<div>\n",
       "<style scoped>\n",
       "    .dataframe tbody tr th:only-of-type {\n",
       "        vertical-align: middle;\n",
       "    }\n",
       "\n",
       "    .dataframe tbody tr th {\n",
       "        vertical-align: top;\n",
       "    }\n",
       "\n",
       "    .dataframe thead th {\n",
       "        text-align: right;\n",
       "    }\n",
       "</style>\n",
       "<table border=\"1\" class=\"dataframe\">\n",
       "  <thead>\n",
       "    <tr style=\"text-align: right;\">\n",
       "      <th></th>\n",
       "      <th>name</th>\n",
       "      <th>ingrCode</th>\n",
       "      <th>ingrNameKor</th>\n",
       "    </tr>\n",
       "  </thead>\n",
       "  <tbody>\n",
       "    <tr>\n",
       "      <th>0</th>\n",
       "      <td>마그네스정</td>\n",
       "      <td>['M204304', 'M255050']</td>\n",
       "      <td>['피리독신염산염', '락트산마그네슘수화물']</td>\n",
       "    </tr>\n",
       "    <tr>\n",
       "      <th>1</th>\n",
       "      <td>우먼스타이레놀정</td>\n",
       "      <td>['M082487', 'M040353']</td>\n",
       "      <td>['파마브롬', '아세트아미노펜']</td>\n",
       "    </tr>\n",
       "    <tr>\n",
       "      <th>2</th>\n",
       "      <td>마그네스정</td>\n",
       "      <td>['M204304', 'M255050']</td>\n",
       "      <td>['피리독신염산염', '락트산마그네슘수화물']</td>\n",
       "    </tr>\n",
       "    <tr>\n",
       "      <th>3</th>\n",
       "      <td>타이레놀콜드-에스정</td>\n",
       "      <td>['M223211', 'M202983', 'M203364', 'M040353']</td>\n",
       "      <td>['클로르페니라민말레산염', '덱스트로메토르판브롬화수소산염', '슈도에페드린염산염'...</td>\n",
       "    </tr>\n",
       "    <tr>\n",
       "      <th>4</th>\n",
       "      <td>어린이타이레놀현탁액</td>\n",
       "      <td>['M246556']</td>\n",
       "      <td>['아세트아미노펜 (미분화)']</td>\n",
       "    </tr>\n",
       "    <tr>\n",
       "      <th>5</th>\n",
       "      <td>마그네스정</td>\n",
       "      <td>['M204304', 'M255050']</td>\n",
       "      <td>['피리독신염산염', '락트산마그네슘수화물']</td>\n",
       "    </tr>\n",
       "    <tr>\n",
       "      <th>6</th>\n",
       "      <td>마그네스정</td>\n",
       "      <td>['M204304', 'M255050']</td>\n",
       "      <td>['피리독신염산염', '락트산마그네슘수화물']</td>\n",
       "    </tr>\n",
       "    <tr>\n",
       "      <th>7</th>\n",
       "      <td>마그네스디정</td>\n",
       "      <td>['M204304', 'M255050']</td>\n",
       "      <td>['피리독신염산염', '락트산마그네슘수화물']</td>\n",
       "    </tr>\n",
       "    <tr>\n",
       "      <th>8</th>\n",
       "      <td>마그네스정</td>\n",
       "      <td>['M204304', 'M255050']</td>\n",
       "      <td>['피리독신염산염', '락트산마그네슘수화물']</td>\n",
       "    </tr>\n",
       "    <tr>\n",
       "      <th>9</th>\n",
       "      <td>프로그랍캡슐1밀리그램(타크로리무스수화물)</td>\n",
       "      <td>['M227652']</td>\n",
       "      <td>['타크로리무스 수화물']</td>\n",
       "    </tr>\n",
       "    <tr>\n",
       "      <th>10</th>\n",
       "      <td>한미아스피린장용정100밀리그램</td>\n",
       "      <td>['M040355']</td>\n",
       "      <td>['아스피린']</td>\n",
       "    </tr>\n",
       "  </tbody>\n",
       "</table>\n",
       "</div>"
      ],
      "text/plain": [
       "                      name                                      ingrCode  \\\n",
       "0                    마그네스정                        ['M204304', 'M255050']   \n",
       "1                 우먼스타이레놀정                        ['M082487', 'M040353']   \n",
       "2                    마그네스정                        ['M204304', 'M255050']   \n",
       "3               타이레놀콜드-에스정  ['M223211', 'M202983', 'M203364', 'M040353']   \n",
       "4               어린이타이레놀현탁액                                   ['M246556']   \n",
       "5                    마그네스정                        ['M204304', 'M255050']   \n",
       "6                    마그네스정                        ['M204304', 'M255050']   \n",
       "7                   마그네스디정                        ['M204304', 'M255050']   \n",
       "8                    마그네스정                        ['M204304', 'M255050']   \n",
       "9   프로그랍캡슐1밀리그램(타크로리무스수화물)                                   ['M227652']   \n",
       "10        한미아스피린장용정100밀리그램                                   ['M040355']   \n",
       "\n",
       "                                          ingrNameKor  \n",
       "0                           ['피리독신염산염', '락트산마그네슘수화물']  \n",
       "1                                 ['파마브롬', '아세트아미노펜']  \n",
       "2                           ['피리독신염산염', '락트산마그네슘수화물']  \n",
       "3   ['클로르페니라민말레산염', '덱스트로메토르판브롬화수소산염', '슈도에페드린염산염'...  \n",
       "4                                   ['아세트아미노펜 (미분화)']  \n",
       "5                           ['피리독신염산염', '락트산마그네슘수화물']  \n",
       "6                           ['피리독신염산염', '락트산마그네슘수화물']  \n",
       "7                           ['피리독신염산염', '락트산마그네슘수화물']  \n",
       "8                           ['피리독신염산염', '락트산마그네슘수화물']  \n",
       "9                                      ['타크로리무스 수화물']  \n",
       "10                                           ['아스피린']  "
      ]
     },
     "execution_count": 6,
     "metadata": {},
     "output_type": "execute_result"
    }
   ],
   "source": []
  },
  {
   "cell_type": "code",
   "execution_count": 10,
   "metadata": {},
   "outputs": [],
   "source": [
    "name='안녕하세요'"
   ]
  },
  {
   "cell_type": "code",
   "execution_count": 11,
   "metadata": {},
   "outputs": [
    {
     "name": "stdout",
     "output_type": "stream",
     "text": [
      "안녕하세요\n",
      "안녕하세\n",
      "안녕하\n",
      "안녕\n",
      "안\n"
     ]
    },
    {
     "ename": "",
     "evalue": "",
     "output_type": "error",
     "traceback": [
      "\u001b[1;31m현재 셀 또는 이전 셀에서 코드를 실행하는 동안 Kernel이 충돌했습니다. 셀의 코드를 검토하여 오류의 가능한 원인을 식별하세요. 자세한 내용을 보려면 <a href='https://aka.ms/vscodeJupyterKernelCrash'> 여기 </a> 를 클릭하세요. 자세한 내용은 Jupyter <a href='command:jupyter.viewOutput'>로그</a>를 참조하세요."
     ]
    }
   ],
   "source": [
    "for i in range(len(name)):\n",
    "  print(name[:len(name)-i])"
   ]
  },
  {
   "cell_type": "code",
   "execution_count": null,
   "metadata": {},
   "outputs": [],
   "source": []
  }
 ],
 "metadata": {
  "kernelspec": {
   "display_name": "Python 3.9.13 ('dt')",
   "language": "python",
   "name": "python3"
  },
  "language_info": {
   "codemirror_mode": {
    "name": "ipython",
    "version": 3
   },
   "file_extension": ".py",
   "mimetype": "text/x-python",
   "name": "python",
   "nbconvert_exporter": "python",
   "pygments_lexer": "ipython3",
   "version": "3.9.13"
  },
  "orig_nbformat": 4,
  "vscode": {
   "interpreter": {
    "hash": "1a85f14453b71934a4258060624fc47c177d05b41325ffeb5f8ec5a9ae62e297"
   }
  }
 },
 "nbformat": 4,
 "nbformat_minor": 2
}

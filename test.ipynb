{
 "cells": [
  {
   "cell_type": "code",
   "execution_count": 1,
   "metadata": {},
   "outputs": [],
   "source": [
    "from drug_data import DrugData\n",
    "import pandas as pd\n",
    "import requests"
   ]
  },
  {
   "cell_type": "code",
   "execution_count": 2,
   "metadata": {},
   "outputs": [],
   "source": [
    "dd = DrugData()"
   ]
  },
  {
   "cell_type": "code",
   "execution_count": null,
   "metadata": {},
   "outputs": [],
   "source": [
    "dd.getDrugName('타이레놀')"
   ]
  },
  {
   "cell_type": "code",
   "execution_count": null,
   "metadata": {},
   "outputs": [],
   "source": [
    "dd.getDrugIngrNameKor('타이레놀산500밀리그램(아세트아미노펜)  ')"
   ]
  },
  {
   "cell_type": "code",
   "execution_count": null,
   "metadata": {},
   "outputs": [],
   "source": [
    "drugInfo = pd.DataFrame({'name': ['타이레놀산500밀리그램(아세트아미노펜)  '], 'ingrCode': dd.getDrugIngrCode('타이레놀산500밀리그램(아세트아미노펜)  '), 'ingrNameKor': dd.getDrugIngrNameKor('타이레놀산500밀리그램(아세트아미노펜)  ')})"
   ]
  },
  {
   "cell_type": "code",
   "execution_count": null,
   "metadata": {},
   "outputs": [],
   "source": [
    "dd.saveDrugDB(drugInfo=drugInfo)"
   ]
  },
  {
   "cell_type": "code",
   "execution_count": null,
   "metadata": {},
   "outputs": [],
   "source": [
    "db = dd.readDrugDB()"
   ]
  },
  {
   "cell_type": "code",
   "execution_count": null,
   "metadata": {},
   "outputs": [],
   "source": [
    "db"
   ]
  },
  {
   "cell_type": "code",
   "execution_count": null,
   "metadata": {},
   "outputs": [],
   "source": [
    "encode = '4ARJOwbLh8jufyYInZFDNEp0phIdsR0d7ZZP0bqJKwTfQ3cL%%2BDf7zJWkSnYAk%%2B8%%2BjCjn%%2FV9RLSxZ2vNFQ%%2BYHrQ%%3D%%3D'"
   ]
  },
  {
   "cell_type": "code",
   "execution_count": null,
   "metadata": {},
   "outputs": [],
   "source": [
    "url = 'https://apis.data.go.kr/1471000/DURIrdntInfoService02/getUsjntTabooInfoList01'\n",
    "params = {\n",
    "  \"serviceKey\": encode,\n",
    "  \"pageNo\": \"1\",\n",
    "  \"numOfRows\": \"50\",\n",
    "  \"typeName\": \"병용금기\",\n",
    "  \"ingrKorName\": \"이트라코나졸\"\n",
    "}"
   ]
  },
  {
   "cell_type": "code",
   "execution_count": null,
   "metadata": {},
   "outputs": [],
   "source": [
    "res = requests.get('https://apis.data.go.kr/1471000/DURIrdntInfoService02/getUsjntTabooInfoList01?serviceKey=4ARJOwbLh8jufyYInZFDNEp0phIdsR0d7ZZP0bqJKwTfQ3cL%%2BDf7zJWkSnYAk%%2B8%%2BjCjn%%2FV9RLSxZ2vNFQ%%2BYHrQ%%3D%%3D&pageNo=1&numOfRows=50&type=xml&typeName=병용금기&ingrKorName=이트라코나졸', verify=False)"
   ]
  },
  {
   "cell_type": "code",
   "execution_count": null,
   "metadata": {},
   "outputs": [],
   "source": [
    "content = res.text"
   ]
  },
  {
   "cell_type": "code",
   "execution_count": null,
   "metadata": {},
   "outputs": [],
   "source": [
    "import pprint"
   ]
  },
  {
   "cell_type": "code",
   "execution_count": null,
   "metadata": {},
   "outputs": [],
   "source": [
    "pp = pprint.PrettyPrinter(indent=4)"
   ]
  },
  {
   "cell_type": "code",
   "execution_count": null,
   "metadata": {},
   "outputs": [],
   "source": [
    "print(pp.pprint(content))"
   ]
  },
  {
   "cell_type": "code",
   "execution_count": 3,
   "metadata": {},
   "outputs": [],
   "source": [
    "tt = dd.getMixCautionDrug('이트라코나졸')"
   ]
  },
  {
   "cell_type": "code",
   "execution_count": null,
   "metadata": {},
   "outputs": [],
   "source": []
  }
 ],
 "metadata": {
  "kernelspec": {
   "display_name": "Python 3.9.13 ('dt')",
   "language": "python",
   "name": "python3"
  },
  "language_info": {
   "codemirror_mode": {
    "name": "ipython",
    "version": 3
   },
   "file_extension": ".py",
   "mimetype": "text/x-python",
   "name": "python",
   "nbconvert_exporter": "python",
   "pygments_lexer": "ipython3",
   "version": "3.9.13"
  },
  "orig_nbformat": 4,
  "vscode": {
   "interpreter": {
    "hash": "7d1f0ef0627ae2bff5411a01e256ba9b195be0690c00bee3e04110b1b53e9b52"
   }
  }
 },
 "nbformat": 4,
 "nbformat_minor": 2
}

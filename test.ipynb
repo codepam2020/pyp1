{
 "cells": [
  {
   "cell_type": "code",
   "execution_count": null,
   "metadata": {},
   "outputs": [],
   "source": []
  }
 ],
 "metadata": {
  "kernelspec": {
   "display_name": "Python 3.9.15 ('pyp1')",
   "language": "python",
   "name": "python3"
  },
  "language_info": {
   "name": "python",
   "version": "3.9.15"
  },
  "orig_nbformat": 4,
  "vscode": {
   "interpreter": {
    "hash": "b54b6f3c4ac6b558c6ad39552205841fdcac88ce5ef4ac1330ef2aba332b68fa"
   }
  }
 },
 "nbformat": 4,
 "nbformat_minor": 2
}
